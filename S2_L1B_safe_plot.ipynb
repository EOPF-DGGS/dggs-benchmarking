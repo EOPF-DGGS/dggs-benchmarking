{
 "cells": [
  {
   "cell_type": "code",
   "execution_count": null,
   "id": "0",
   "metadata": {},
   "outputs": [],
   "source": [
    "import os\n",
    "import re\n",
    "\n",
    "import pandas as pd\n",
    "import rioxarray\n",
    "import xarray as xr\n",
    "\n",
    "# Base directory\n",
    "base_dir = \"/home/jovyan/grid4earth_S2L1B/Sentinel-2/MSI/MSI_L1B_GR/2025/07/24\"\n",
    "\n",
    "# Band suffixes of interest\n",
    "band_ids = [\n",
    "    \"B01\",\n",
    "    \"B02\",\n",
    "    \"B03\",\n",
    "    \"B04\",\n",
    "    \"B05\",\n",
    "    \"B06\",\n",
    "    \"B07\",\n",
    "    \"B08\",\n",
    "    \"B09\",\n",
    "    \"B10\",\n",
    "    \"B11\",\n",
    "    \"B12\",\n",
    "    \"B8A\",\n",
    "]\n",
    "\n",
    "# List SAFE folders\n",
    "safe_dirs = sorted(\n",
    "    [\n",
    "        d\n",
    "        for d in os.listdir(base_dir)\n",
    "        if os.path.isdir(os.path.join(base_dir, d)) and d.endswith(\".11\")\n",
    "    ]\n",
    ")\n",
    "\n",
    "# Container for time-stamped datasets\n",
    "ds_list = []\n",
    "\n",
    "for safe_name in safe_dirs:\n",
    "    safe_path = os.path.join(base_dir, safe_name)\n",
    "    img_data_dir = os.path.join(safe_path, \"IMG_DATA\")\n",
    "\n",
    "    print(f\"\\n📦 Processing: {safe_name}\")\n",
    "\n",
    "    # Extract sensing time from the filename, between \"_S\" and \"_D\"\n",
    "    match = re.search(r\"_S(\\d{8}T\\d{6})_D\", safe_name)\n",
    "    if not match:\n",
    "        print(f\"❌ No timestamp found in {safe_name}\")\n",
    "        continue\n",
    "\n",
    "    timestamp_str = match.group(1)\n",
    "    timestamp = pd.to_datetime(timestamp_str, format=\"%Y%m%dT%H%M%S\")\n",
    "\n",
    "    data_vars = {}\n",
    "    ref_da = None\n",
    "\n",
    "    for band in band_ids:\n",
    "        band_files = [f for f in os.listdir(img_data_dir) if f.endswith(f\"{band}.jp2\")]\n",
    "        if not band_files:\n",
    "            print(f\"⚠️  Missing {band} in {safe_name}\")\n",
    "            continue\n",
    "\n",
    "        path = os.path.join(img_data_dir, band_files[0])\n",
    "        da = rioxarray.open_rasterio(path, masked=True).squeeze()\n",
    "\n",
    "        # Use the first band as the shape reference\n",
    "        if ref_da is None:\n",
    "            ref_da = da\n",
    "        # No CRS or reprojection handled here\n",
    "\n",
    "        data_vars[band] = da\n",
    "\n",
    "    if not data_vars:\n",
    "        print(\"🚫 No bands loaded, skipping.\")\n",
    "        continue\n",
    "\n",
    "    # Create Dataset and add time as a coordinate\n",
    "    ds = xr.Dataset(data_vars)\n",
    "    ds = ds.expand_dims(time=[timestamp])\n",
    "    ds_list.append(ds)\n",
    "\n",
    "# Combine all time-stamped datasets\n",
    "if ds_list:\n",
    "    ds_all = xr.concat(ds_list, dim=\"time\")\n",
    "    print(\"\\n✅ Combined dataset with time dimension:\")\n",
    "    print(ds_all)\n",
    "    # Optionally save:\n",
    "    # ds_all.to_zarr(\"Sentinel2_L1B_timeseries.zarr\", mode=\"w\")\n",
    "else:\n",
    "    print(\"\\n🚫 No datasets to combine.\")"
   ]
  },
  {
   "cell_type": "code",
   "execution_count": null,
   "id": "1",
   "metadata": {},
   "outputs": [],
   "source": [
    "ds_all"
   ]
  },
  {
   "cell_type": "code",
   "execution_count": null,
   "id": "2",
   "metadata": {},
   "outputs": [],
   "source": [
    "ds_all.B02.isel(time=3).plot()"
   ]
  },
  {
   "cell_type": "code",
   "execution_count": null,
   "id": "3",
   "metadata": {},
   "outputs": [],
   "source": [
    "ds_all.to_zarr(\"s2l1b_tmp.zarr\")"
   ]
  },
  {
   "cell_type": "code",
   "execution_count": null,
   "id": "4",
   "metadata": {},
   "outputs": [],
   "source": [
    "!du -hs s2l1b_tmp.zarr"
   ]
  },
  {
   "cell_type": "code",
   "execution_count": null,
   "id": "5",
   "metadata": {},
   "outputs": [],
   "source": []
  }
 ],
 "metadata": {
  "language_info": {
   "codemirror_mode": {
    "name": "ipython",
    "version": 3
   },
   "file_extension": ".py",
   "mimetype": "text/x-python",
   "name": "python",
   "nbconvert_exporter": "python",
   "pygments_lexer": "ipython3"
  }
 },
 "nbformat": 4,
 "nbformat_minor": 5
}
