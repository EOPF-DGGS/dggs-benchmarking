{
 "cells": [
  {
   "cell_type": "code",
   "execution_count": null,
   "id": "0",
   "metadata": {},
   "outputs": [],
   "source": [
    "import matplotlib.pyplot as plt\n",
    "import pandas as pd\n",
    "from healpix_geo.nested import healpix_to_lonlat"
   ]
  },
  {
   "cell_type": "code",
   "execution_count": null,
   "id": "1",
   "metadata": {},
   "outputs": [],
   "source": [
    "df3 = pd.read_parquet(\"cell-areas-depth-3.parquet\")\n",
    "df3"
   ]
  },
  {
   "cell_type": "code",
   "execution_count": null,
   "id": "2",
   "metadata": {},
   "outputs": [],
   "source": [
    "df6 = pd.read_parquet(\"cell-areas-depth-6.parquet\")\n",
    "df6"
   ]
  },
  {
   "cell_type": "code",
   "execution_count": null,
   "id": "3",
   "metadata": {},
   "outputs": [],
   "source": [
    "df10 = pd.read_parquet(\"cell-areas-depth-10.parquet\")\n",
    "df10"
   ]
  },
  {
   "cell_type": "code",
   "execution_count": null,
   "id": "4",
   "metadata": {},
   "outputs": [],
   "source": [
    "df11 = pd.read_parquet(\"cell-areas-depth-11.parquet\")\n",
    "df11"
   ]
  },
  {
   "cell_type": "code",
   "execution_count": null,
   "id": "5",
   "metadata": {},
   "outputs": [],
   "source": [
    "def plot_ratio(df, level, *, ax=None):\n",
    "    import matplotlib.ticker as mtick\n",
    "\n",
    "    _, lat = healpix_to_lonlat(\n",
    "        df[\"cell_id\"].to_numpy(), depth=level, ellipsoid=\"sphere\"\n",
    "    )\n",
    "\n",
    "    with_lat = df.assign(lat=lat).sort_values(by=\"lat\")\n",
    "    subset = with_lat.set_index(\"lat\").loc[0:90]\n",
    "\n",
    "    ratio_naive = subset[\"areas_lazy_wgs84\"] / subset[\"areas_wgs84\"]\n",
    "    ratio_exact = subset[\"areas_wgs84\"] / subset[\"areas_wgs84\"].max()\n",
    "\n",
    "    new_df = pd.DataFrame(\n",
    "        {\"authalic mapping\": ratio_exact, \"lazy mapping\": ratio_naive}\n",
    "    )\n",
    "    axis = new_df.pipe(lambda df: df * 100).plot(\n",
    "        xlabel=r\"$\\varphi$ [$\\degree$] - starting latitude on the sphere\",\n",
    "        ylabel=\"local area stretching factor\",\n",
    "        xticks=[0, 45, 90],\n",
    "        xlim=[0, 90],\n",
    "        legend=True,\n",
    "        ax=ax,\n",
    "    )\n",
    "    axis.yaxis.set_major_formatter(mtick.PercentFormatter(decimals=1))\n",
    "    axis.grid(which=\"major\", linestyle=\"--\")\n",
    "\n",
    "    if ax is not None:\n",
    "        axis.set_title(f\"Area stretching for level {level}\")\n",
    "\n",
    "    return axis"
   ]
  },
  {
   "cell_type": "code",
   "execution_count": null,
   "id": "6",
   "metadata": {},
   "outputs": [],
   "source": [
    "ax = plot_ratio(df10, level=10)\n",
    "ax.set_title(\"area distortion for refinement level 10\")\n",
    "ax.figure.savefig(\n",
    "    \"cell-area-ratios-level10.png\", dpi=600, bbox_inches=\"tight\", format=\"png\"\n",
    ")"
   ]
  },
  {
   "cell_type": "code",
   "execution_count": null,
   "id": "7",
   "metadata": {},
   "outputs": [],
   "source": [
    "ax = plot_ratio(df11, level=11)\n",
    "ax.set_title(\"area distortion for refinement level 11\")\n",
    "ax.figure.savefig(\n",
    "    \"cell-area-ratios-level11.png\", dpi=600, bbox_inches=\"tight\", format=\"png\"\n",
    ")"
   ]
  },
  {
   "cell_type": "code",
   "execution_count": null,
   "id": "8",
   "metadata": {},
   "outputs": [],
   "source": [
    "fig, axes = plt.subplots(ncols=3, nrows=1, sharey=True, figsize=(10, 10))\n",
    "plot_ratio(df3, level=3, ax=axes[0])\n",
    "plot_ratio(df6, level=6, ax=axes[1])\n",
    "plot_ratio(df10, level=10, ax=axes[2])\n",
    "fig.savefig(\"cell-area-ratios.png\", dpi=600, bbox_inches=\"tight\", format=\"png\")"
   ]
  },
  {
   "cell_type": "code",
   "execution_count": null,
   "id": "9",
   "metadata": {},
   "outputs": [],
   "source": [
    "df6[\"areas_wgs84\"].pipe(lambda s: s / s.mean() * 100).plot()"
   ]
  }
 ],
 "metadata": {
  "language_info": {
   "codemirror_mode": {
    "name": "ipython",
    "version": 3
   },
   "file_extension": ".py",
   "mimetype": "text/x-python",
   "name": "python",
   "nbconvert_exporter": "python",
   "pygments_lexer": "ipython3"
  }
 },
 "nbformat": 4,
 "nbformat_minor": 5
}
