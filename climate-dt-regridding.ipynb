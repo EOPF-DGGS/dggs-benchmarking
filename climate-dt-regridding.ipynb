{
 "cells": [
  {
   "cell_type": "code",
   "execution_count": null,
   "id": "e0413a6c-b067-4318-9701-ad5fb0151eae",
   "metadata": {},
   "outputs": [],
   "source": [
    "import math\n",
    "\n",
    "import healpix_geo.nested\n",
    "import numpy as np\n",
    "import xarray as xr\n",
    "import xdggs  # noqa: F401\n",
    "import xesmf"
   ]
  },
  {
   "cell_type": "code",
   "execution_count": null,
   "id": "b1fc5cc9-bf2a-4ff7-94ec-3d99fdeb2d17",
   "metadata": {},
   "outputs": [],
   "source": [
    "ds0m = xr.open_dataset(\n",
    "    \"output_ifsnemo_highres.grib\",\n",
    "    engine=\"cfgrib\",\n",
    "    filter_by_keys={\"level\": 0},\n",
    "    decode_timedelta=True,\n",
    ")\n",
    "ds2m = xr.open_dataset(\n",
    "    \"output_ifsnemo_highres.grib\",\n",
    "    engine=\"cfgrib\",\n",
    "    filter_by_keys={\"level\": 2},\n",
    "    decode_timedelta=True,\n",
    ")\n",
    "ds10m = xr.open_dataset(\n",
    "    \"output_ifsnemo_highres.grib\",\n",
    "    engine=\"cfgrib\",\n",
    "    filter_by_keys={\"level\": 10},\n",
    "    decode_timedelta=True,\n",
    ")\n",
    "\n",
    "grid_metadata = {\n",
    "    \"indexing_scheme\": \"nested\",\n",
    "    \"grid_name\": \"healpix\",\n",
    "    \"level\": int(math.log(ds0m.sizes[\"values\"] / 12) / math.log(4)),\n",
    "}\n",
    "dt = xr.DataTree.from_dict(\n",
    "    {\"surface\": ds0m, \"h2m\": ds2m, \"h10m\": ds10m}\n",
    ").map_over_datasets(\n",
    "    lambda ds: (\n",
    "        ds.assign_coords(cell_ids=ds[\"values\"]).dggs.decode(grid_metadata)\n",
    "        if \"values\" in ds.dims\n",
    "        else ds\n",
    "    )\n",
    ")\n",
    "dt"
   ]
  },
  {
   "cell_type": "code",
   "execution_count": null,
   "id": "82b2490b-9411-4950-8583-471c6c643f88",
   "metadata": {},
   "outputs": [],
   "source": [
    "source_grid = ds0m[[\"latitude\", \"longitude\"]]\n",
    "\n",
    "cell_ids = np.arange(12 * 4 ** grid_metadata[\"level\"], dtype=\"uint64\")\n",
    "longitude, latitude = healpix_geo.nested.healpix_to_lonlat(\n",
    "    cell_ids, depth=grid_metadata[\"level\"], ellipsoid=\"WGS84\"\n",
    ")\n",
    "target_grid = xr.Dataset(\n",
    "    coords={\n",
    "        \"cell_ids\": (\"cells\", cell_ids, grid_metadata),\n",
    "        \"longitude\": (\"cells\", longitude),\n",
    "        \"latitude\": (\"cells\", latitude),\n",
    "    }\n",
    ")\n",
    "display(source_grid, target_grid)"
   ]
  },
  {
   "cell_type": "code",
   "execution_count": null,
   "id": "a8848cdc-6878-4ced-9274-07aad7ca5c15",
   "metadata": {},
   "outputs": [],
   "source": [
    "regridder = xesmf.Regridder(\n",
    "    source_grid,\n",
    "    target_grid,\n",
    "    method=\"nearest_s2d\",\n",
    "    locstream_in=True,\n",
    "    locstream_out=True,\n",
    "    periodic=True,\n",
    ")\n",
    "regridder"
   ]
  },
  {
   "cell_type": "code",
   "execution_count": null,
   "id": "77ac852d-d902-483c-8660-16615484c56e",
   "metadata": {},
   "outputs": [],
   "source": [
    "regridded = dt.map_over_datasets(\n",
    "    lambda ds: (\n",
    "        ds\n",
    "        if \"values\" not in ds.dims\n",
    "        else regridder.regrid_dataset(ds, keep_attrs=True).dggs.decode(grid_metadata)\n",
    "    )\n",
    ")\n",
    "regridded"
   ]
  },
  {
   "cell_type": "code",
   "execution_count": null,
   "id": "8ec65d05-fefb-4d03-ac93-0694b6df4493",
   "metadata": {},
   "outputs": [],
   "source": [
    "regridded[\"/surface/sp\"].dggs.explore(alpha=0.8)"
   ]
  }
 ],
 "metadata": {
  "kernelspec": {
   "display_name": "Python 3 (ipykernel)",
   "language": "python",
   "name": "python3"
  },
  "language_info": {
   "codemirror_mode": {
    "name": "ipython",
    "version": 3
   },
   "file_extension": ".py",
   "mimetype": "text/x-python",
   "name": "python",
   "nbconvert_exporter": "python",
   "pygments_lexer": "ipython3",
   "version": "3.12.11"
  }
 },
 "nbformat": 4,
 "nbformat_minor": 5
}
