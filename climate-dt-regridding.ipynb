{
 "cells": [
  {
   "cell_type": "code",
   "execution_count": null,
   "id": "e0413a6c-b067-4318-9701-ad5fb0151eae",
   "metadata": {},
   "outputs": [],
   "source": [
    "import math\n",
    "\n",
    "import healpix_geo.nested\n",
    "import numpy as np\n",
    "import xarray as xr\n",
    "import xdggs  # noqa: F401\n",
    "import xesmf"
   ]
  },
  {
   "cell_type": "code",
   "execution_count": null,
   "id": "6a5883ec-fcc6-4b50-a930-58fe5a7f30a9",
   "metadata": {},
   "outputs": [],
   "source": [
    "url = \"output_ifsnemo_highres.grib\"  # local path"
   ]
  },
  {
   "cell_type": "code",
   "execution_count": null,
   "id": "b1fc5cc9-bf2a-4ff7-94ec-3d99fdeb2d17",
   "metadata": {},
   "outputs": [],
   "source": [
    "def normalize_height_above_ground(ds):\n",
    "    if \"heightAboveGround\" in ds.coords:\n",
    "        coord = ds[\"heightAboveGround\"].variable\n",
    "        metadata = coord.attrs\n",
    "    else:\n",
    "        coord = ds[\"surface\"].variable\n",
    "        metadata = {\"units\": \"m\", \"standard_name\": \"height_above_ground\"}\n",
    "\n",
    "    attrs = {\"height_above_ground\": coord.item(), \"_eopf_attrs\": metadata}\n",
    "    new = ds.drop_vars([\"surface\", \"heightAboveGround\"], errors=\"ignore\")\n",
    "    for var in new.data_vars.values():\n",
    "        var.attrs |= attrs\n",
    "    return new\n",
    "\n",
    "\n",
    "ds0m = xr.open_dataset(\n",
    "    url, engine=\"cfgrib\", filter_by_keys={\"level\": 0}, decode_timedelta=True\n",
    ").pipe(normalize_height_above_ground)\n",
    "ds2m = xr.open_dataset(\n",
    "    url, engine=\"cfgrib\", filter_by_keys={\"level\": 2}, decode_timedelta=True\n",
    ").pipe(normalize_height_above_ground)\n",
    "ds10m = xr.open_dataset(\n",
    "    url, engine=\"cfgrib\", filter_by_keys={\"level\": 10}, decode_timedelta=True\n",
    ").pipe(normalize_height_above_ground)\n",
    "\n",
    "grid_metadata = {\n",
    "    \"indexing_scheme\": \"nested\",\n",
    "    \"grid_name\": \"healpix\",\n",
    "    \"level\": int(math.log(ds0m.sizes[\"values\"] / 12) / math.log(4)),\n",
    "}\n",
    "ds = (\n",
    "    xr.merge([ds0m, ds2m, ds10m], compat=\"override\")\n",
    "    .assign_coords(cell_ids=lambda ds: ds[\"values\"])\n",
    "    .dggs.decode(grid_metadata)\n",
    ")\n",
    "ds.compute()"
   ]
  },
  {
   "cell_type": "code",
   "execution_count": null,
   "id": "82b2490b-9411-4950-8583-471c6c643f88",
   "metadata": {},
   "outputs": [],
   "source": [
    "source_grid = ds[[\"latitude\", \"longitude\"]].load()\n",
    "\n",
    "cell_ids = np.arange(12 * 4 ** grid_metadata[\"level\"], dtype=\"uint64\")\n",
    "longitude, latitude = healpix_geo.nested.healpix_to_lonlat(\n",
    "    cell_ids, depth=grid_metadata[\"level\"], ellipsoid=\"WGS84\"\n",
    ")\n",
    "target_grid = xr.Dataset(\n",
    "    coords={\n",
    "        \"cell_ids\": (\"cells\", cell_ids, grid_metadata),\n",
    "        \"longitude\": (\"cells\", longitude),\n",
    "        \"latitude\": (\"cells\", latitude),\n",
    "    }\n",
    ")\n",
    "display(source_grid, target_grid)"
   ]
  },
  {
   "cell_type": "code",
   "execution_count": null,
   "id": "a8848cdc-6878-4ced-9274-07aad7ca5c15",
   "metadata": {},
   "outputs": [],
   "source": [
    "%%time\n",
    "regridder = xesmf.Regridder(\n",
    "    source_grid,\n",
    "    target_grid,\n",
    "    method=\"nearest_s2d\",\n",
    "    locstream_in=True,\n",
    "    locstream_out=True,\n",
    "    periodic=True,\n",
    ")\n",
    "regridder"
   ]
  },
  {
   "cell_type": "code",
   "execution_count": null,
   "id": "77ac852d-d902-483c-8660-16615484c56e",
   "metadata": {},
   "outputs": [],
   "source": [
    "regridded = regridder.regrid_dataset(ds, keep_attrs=True).dggs.decode(grid_metadata)\n",
    "regridded"
   ]
  },
  {
   "cell_type": "code",
   "execution_count": null,
   "id": "8ec65d05-fefb-4d03-ac93-0694b6df4493",
   "metadata": {},
   "outputs": [],
   "source": [
    "regridded[\"sp\"].dggs.explore(alpha=0.8)"
   ]
  },
  {
   "cell_type": "code",
   "execution_count": null,
   "id": "626fa2fc-415b-4c17-b5fe-572960accec5",
   "metadata": {},
   "outputs": [],
   "source": [
    "zarr_url = f\"{url.removesuffix('.grib')}.zarr\""
   ]
  },
  {
   "cell_type": "code",
   "execution_count": null,
   "id": "15a1142c-de2f-4bb5-bcfd-a2ba6d443a50",
   "metadata": {},
   "outputs": [],
   "source": [
    "chunk_size = 4**regridded.dggs.grid_info.level\n",
    "regridded.chunk({\"cells\": chunk_size}).to_zarr(zarr_url, mode=\"w\")"
   ]
  },
  {
   "cell_type": "code",
   "execution_count": null,
   "id": "51592255-6426-4428-8321-290b9772b0d7",
   "metadata": {},
   "outputs": [],
   "source": [
    "reloaded = xr.open_dataset(zarr_url, engine=\"zarr\", chunks={})\n",
    "reloaded"
   ]
  }
 ],
 "metadata": {
  "kernelspec": {
   "display_name": "Python 3 (ipykernel)",
   "language": "python",
   "name": "python3"
  },
  "language_info": {
   "codemirror_mode": {
    "name": "ipython",
    "version": 3
   },
   "file_extension": ".py",
   "mimetype": "text/x-python",
   "name": "python",
   "nbconvert_exporter": "python",
   "pygments_lexer": "ipython3",
   "version": "3.12.11"
  }
 },
 "nbformat": 4,
 "nbformat_minor": 5
}
