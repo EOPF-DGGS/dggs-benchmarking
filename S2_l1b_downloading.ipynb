{
 "cells": [
  {
   "cell_type": "markdown",
   "id": "0",
   "metadata": {},
   "source": [
    "# Download L1B, in safe format, then transform to ZARR\n",
    "\n",
    "\n"
   ]
  },
  {
   "cell_type": "markdown",
   "id": "1",
   "metadata": {},
   "source": [
    "## Download the safe format file\n",
    "### Import dependencies for downloading Safe format. "
   ]
  },
  {
   "cell_type": "code",
   "execution_count": null,
   "id": "2",
   "metadata": {},
   "outputs": [],
   "source": [
    "import os\n",
    "\n",
    "import boto3\n",
    "from dotenv import load_dotenv"
   ]
  },
  {
   "cell_type": "markdown",
   "id": "3",
   "metadata": {},
   "source": [
    "### Setup and Environment Configuration\n",
    "\n",
    "First, we'll import the required libraries and set up our environment. Make sure your Copernicus credentials are stored in your environment variables or a `.env` file.\n"
   ]
  },
  {
   "cell_type": "code",
   "execution_count": null,
   "id": "4",
   "metadata": {},
   "outputs": [],
   "source": [
    "# Get credentials from environment variables\n",
    "load_dotenv()\n",
    "ACCESS_KEY_ID = os.environ.get(\"ACCESS_KEY_ID\")\n",
    "SECRET_ACCESS_KEY = os.environ.get(\"SECRET_ACCESS_KEY\")\n",
    "\n",
    "\n",
    "session = boto3.session.Session()\n",
    "s3 = boto3.resource(\n",
    "    \"s3\",\n",
    "    endpoint_url=\"https://eodata.dataspace.copernicus.eu\",\n",
    "    aws_access_key_id=ACCESS_KEY_ID,\n",
    "    aws_secret_access_key=SECRET_ACCESS_KEY,\n",
    "    region_name=\"default\",\n",
    ")  # generated secrets\n",
    "\n",
    "\n",
    "def download(bucket, product: str, target: str = \"\") -> None:\n",
    "    \"\"\"\n",
    "    Downloads every file in bucket with provided product as prefix\n",
    "\n",
    "    Raises FileNotFoundError if the product was not found\n",
    "\n",
    "    Args:\n",
    "        bucket: boto3 Resource bucket object\n",
    "        product: Path to product\n",
    "        target: Local catalog for downloaded files. Should end with an `/`. Default current directory.\n",
    "    \"\"\"\n",
    "    files = bucket.objects.filter(Prefix=product)\n",
    "    if not list(files):\n",
    "        raise FileNotFoundError(f\"Could not find any files for {product}\")\n",
    "    for file in files:\n",
    "        os.makedirs(os.path.dirname(file.key), exist_ok=True)\n",
    "        if not os.path.isdir(file.key):\n",
    "            bucket.download_file(file.key, f\"{target}{file.key}\")\n",
    "\n",
    "\n",
    "# path to the product to download\n",
    "download(\n",
    "    s3.Bucket(\n",
    "        \"eodata\"\n",
    "    ),  # \"Sentinel-1/SAR/SLC/2019/10/13/S1B_IW_SLC__1SDV_20191013T155948_20191013T160015_018459_022C6B_13A2.SAFE/\"\n",
    "    \"Sentinel-2/MSI/MSI_L1B_GR/2025/07/24/S2A_OPER_MSI_L1B_GR_2APS_20250724T145646_S20250724T112818_D07_N05.11.tar\",\n",
    ")"
   ]
  },
  {
   "cell_type": "markdown",
   "id": "5",
   "metadata": {},
   "source": []
  },
  {
   "cell_type": "markdown",
   "id": "6",
   "metadata": {},
   "source": [
    "### Connecting to Copernicus Data Space Ecosystem\n",
    "\n",
    "Now let's establish connections to both the S3 storage and STAC catalog services using our credentials.\n"
   ]
  },
  {
   "cell_type": "code",
   "execution_count": null,
   "id": "7",
   "metadata": {},
   "outputs": [],
   "source": [
    "!ls Sentinel-2"
   ]
  },
  {
   "cell_type": "code",
   "execution_count": null,
   "id": "8",
   "metadata": {
    "collapsed": true,
    "jupyter": {
     "outputs_hidden": true
    }
   },
   "outputs": [],
   "source": [
    "import os\n",
    "\n",
    "import boto3\n",
    "from dotenv import load_dotenv\n",
    "\n",
    "# Load credentials from .env\n",
    "load_dotenv()\n",
    "ACCESS_KEY_ID = os.environ.get(\"ACCESS_KEY_ID\")\n",
    "SECRET_ACCESS_KEY = os.environ.get(\"SECRET_ACCESS_KEY\")\n",
    "\n",
    "# Initialize S3 resource for CDSE\n",
    "session = boto3.session.Session()\n",
    "s3 = session.resource(\n",
    "    \"s3\",\n",
    "    endpoint_url=\"https://eodata.dataspace.copernicus.eu\",\n",
    "    aws_access_key_id=ACCESS_KEY_ID,\n",
    "    aws_secret_access_key=SECRET_ACCESS_KEY,\n",
    "    region_name=\"default\",\n",
    ")\n",
    "\n",
    "\n",
    "def download_all_under_prefix(bucket, prefix: str, target: str = \"\") -> None:\n",
    "    \"\"\"\n",
    "    Recursively downloads all files under a given prefix (folder-like path)\n",
    "\n",
    "    Args:\n",
    "        bucket: boto3 Bucket resource\n",
    "        prefix: S3 prefix (folder path) to mirror\n",
    "        target: Local base folder to store downloaded files\n",
    "    \"\"\"\n",
    "    files = bucket.objects.filter(Prefix=prefix)\n",
    "    count = 0\n",
    "    for file in files:\n",
    "        # Full local path\n",
    "        local_path = os.path.join(target, file.key)\n",
    "        # Ensure destination directory exists\n",
    "        os.makedirs(os.path.dirname(local_path), exist_ok=True)\n",
    "        # Skip directories (S3 can list empty 'folders')\n",
    "        if not file.key.endswith(\"/\"):\n",
    "            print(f\"⬇️  Downloading {file.key}\")\n",
    "            bucket.download_file(file.key, local_path)\n",
    "            count += 1\n",
    "    if count == 0:\n",
    "        raise FileNotFoundError(f\"❌ No files found under {prefix}\")\n",
    "    print(f\"✅ Downloaded {count} files under {prefix}\")\n",
    "\n",
    "\n",
    "# Call the function on your desired folder\n",
    "download_all_under_prefix(\n",
    "    bucket=s3.Bucket(\"eodata\"),\n",
    "    prefix=\"Sentinel-2/MSI/MSI_L1B_GR/2025/07/24/\",\n",
    "    target=\"S2_L1B_20250724\",  # Local folder\n",
    ")"
   ]
  },
  {
   "cell_type": "code",
   "execution_count": null,
   "id": "9",
   "metadata": {},
   "outputs": [],
   "source": [
    "import os\n",
    "\n",
    "import boto3\n",
    "from dotenv import load_dotenv\n",
    "\n",
    "# Load credentials\n",
    "load_dotenv()\n",
    "ACCESS_KEY_ID = os.environ[\"ACCESS_KEY_ID\"]\n",
    "SECRET_ACCESS_KEY = os.environ[\"SECRET_ACCESS_KEY\"]\n",
    "\n",
    "# Initialize S3 session\n",
    "session = boto3.session.Session()\n",
    "s3 = session.resource(\n",
    "    \"s3\",\n",
    "    endpoint_url=\"https://eodata.dataspace.copernicus.eu\",\n",
    "    aws_access_key_id=ACCESS_KEY_ID,\n",
    "    aws_secret_access_key=SECRET_ACCESS_KEY,\n",
    "    region_name=\"default\",\n",
    ")\n",
    "\n",
    "\n",
    "def get_total_size(bucket, prefix):\n",
    "    \"\"\"\n",
    "    Returns the total size (in bytes) and file count under a given prefix.\n",
    "    \"\"\"\n",
    "    total_bytes = 0\n",
    "    file_count = 0\n",
    "\n",
    "    for obj in bucket.objects.filter(Prefix=prefix):\n",
    "        if not obj.key.endswith(\"/\"):  # skip folders\n",
    "            total_bytes += obj.size\n",
    "            file_count += 1\n",
    "\n",
    "    return total_bytes, file_count\n",
    "\n",
    "\n",
    "# Run it\n",
    "prefix = \"Sentinel-2/MSI/MSI_L1B_GR/2025/07/24/\"\n",
    "bucket = s3.Bucket(\"eodata\")\n",
    "total_bytes, file_count = get_total_size(bucket, prefix)\n",
    "\n",
    "# Print nicely\n",
    "print(f\"📦 Total files: {file_count}\")\n",
    "print(f\"🧮 Total size: {total_bytes / (1024**3):.2f} GB\")"
   ]
  },
  {
   "cell_type": "code",
   "execution_count": null,
   "id": "10",
   "metadata": {},
   "outputs": [],
   "source": [
    "# Run it\n",
    "prefix = \"Sentinel-2/MSI/MSI_L1B_GR/2025/07/23/\"\n",
    "bucket = s3.Bucket(\"eodata\")\n",
    "total_bytes, file_count = get_total_size(bucket, prefix)\n",
    "\n",
    "# Print nicely\n",
    "print(f\"📦 Total files: {file_count}\")\n",
    "print(f\"🧮 Total size: {total_bytes / (1024**3):.2f} GB\")"
   ]
  },
  {
   "cell_type": "code",
   "execution_count": null,
   "id": "11",
   "metadata": {},
   "outputs": [],
   "source": []
  }
 ],
 "metadata": {
  "kernelspec": {
   "display_name": "Python 3 (ipykernel)",
   "language": "python",
   "name": "python3"
  },
  "language_info": {
   "codemirror_mode": {
    "name": "ipython",
    "version": 3
   },
   "file_extension": ".py",
   "mimetype": "text/x-python",
   "name": "python",
   "nbconvert_exporter": "python",
   "pygments_lexer": "ipython3",
   "version": "3.12.8"
  }
 },
 "nbformat": 4,
 "nbformat_minor": 5
}
