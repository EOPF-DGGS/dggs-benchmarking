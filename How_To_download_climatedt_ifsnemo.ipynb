{
 "cells": [
  {
   "cell_type": "markdown",
   "id": "0",
   "metadata": {},
   "source": [
    "# Access Climate DT data with polytope\n",
    "\n",
    "Connect to https://code.insula.destine.eu/\n"
   ]
  },
  {
   "cell_type": "code",
   "execution_count": null,
   "id": "1",
   "metadata": {},
   "outputs": [],
   "source": [
    "import polytope\n",
    "import xarray as xr"
   ]
  },
  {
   "cell_type": "code",
   "execution_count": null,
   "id": "2",
   "metadata": {},
   "outputs": [],
   "source": [
    "# %run ../desp-authentication.py\n",
    "rcfile = \"~/.polytopeapirc\""
   ]
  },
  {
   "cell_type": "markdown",
   "id": "3",
   "metadata": {},
   "source": [
    "## Request data\n",
    "- Check [ECMWF Climate DT Overview](https://confluence.ecmwf.int/display/DDCZ/DestinE%2BClimateDT%2BParameters?) to get information on possible values for each field, e.g. parameters from the ECMWF Parameter Database.\n",
    "\n",
    "Or check Climate_dt_dictionary"
   ]
  },
  {
   "cell_type": "code",
   "execution_count": null,
   "id": "4",
   "metadata": {},
   "outputs": [],
   "source": [
    "from destinelab import climate_dt_dictionary\n",
    "\n",
    "# パラメータ辞書から param と名前、単位などを確認\n",
    "for entry in climate_dt_dictionary.climateDT_params:\n",
    "    #    print(entry)\n",
    "    if entry[\"param\"] == \"168\":\n",
    "        print(entry)"
   ]
  },
  {
   "cell_type": "code",
   "execution_count": null,
   "id": "5",
   "metadata": {},
   "outputs": [],
   "source": [
    "kwargs = {\"address\": \"polytope.lumi.apps.dte.destination-earth.eu\"}\n",
    "client = polytope.api.Client(**kwargs)"
   ]
  },
  {
   "cell_type": "code",
   "execution_count": null,
   "id": "6",
   "metadata": {},
   "outputs": [],
   "source": [
    "client.list_collections()"
   ]
  },
  {
   "cell_type": "code",
   "execution_count": null,
   "id": "7",
   "metadata": {},
   "outputs": [],
   "source": [
    "request = {\n",
    "    \"activity\": \"ScenarioMIP\",\n",
    "    \"class\": \"d1\",\n",
    "    \"dataset\": \"climate-dt\",\n",
    "    \"date\": \"20200102\",\n",
    "    \"experiment\": \"SSP3-7.0\",\n",
    "    \"expver\": \"0001\",\n",
    "    \"generation\": \"1\",\n",
    "    \"levtype\": \"sfc\",\n",
    "    \"model\": \"IFS-NEMO\",\n",
    "    \"param\": \"134/165/166/167\",\n",
    "    \"realization\": \"1\",\n",
    "    \"resolution\": \"highres\",  #'standard',#'highres',\n",
    "    \"stream\": \"clte\",\n",
    "    \"time\": \"0100\",  # '0100/0200/0300/0400/0500/0600'\n",
    "    \"type\": \"fc\",\n",
    "}"
   ]
  },
  {
   "cell_type": "code",
   "execution_count": null,
   "id": "8",
   "metadata": {},
   "outputs": [],
   "source": [
    "# Retrieve data\n",
    "client.retrieve(\"destination-earth\", request, \"output_ifsnemo_highres.grib\")"
   ]
  },
  {
   "cell_type": "code",
   "execution_count": null,
   "id": "9",
   "metadata": {},
   "outputs": [],
   "source": [
    "dset = xr.open_dataset(\"output_ifsnemo_highres.grib\", engine=\"cfgrib\")"
   ]
  },
  {
   "cell_type": "code",
   "execution_count": null,
   "id": "10",
   "metadata": {},
   "outputs": [],
   "source": [
    "dset"
   ]
  },
  {
   "cell_type": "code",
   "execution_count": null,
   "id": "11",
   "metadata": {},
   "outputs": [],
   "source": []
  }
 ],
 "metadata": {
  "language_info": {
   "codemirror_mode": {
    "name": "ipython",
    "version": 3
   },
   "file_extension": ".py",
   "mimetype": "text/x-python",
   "name": "python",
   "nbconvert_exporter": "python",
   "pygments_lexer": "ipython3"
  }
 },
 "nbformat": 4,
 "nbformat_minor": 5
}
