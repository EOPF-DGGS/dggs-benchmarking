{
 "cells": [
  {
   "cell_type": "markdown",
   "id": "0",
   "metadata": {},
   "source": [
    "The docker image is availabe with following path\n",
    "```\n",
    "docker.io/tinaok/eopf-webiner6-docker:eopf\n",
    "```\n"
   ]
  },
  {
   "cell_type": "code",
   "execution_count": null,
   "id": "1",
   "metadata": {},
   "outputs": [],
   "source": [
    "!tar -xvf /home/jovyan/grid4earth_S2L1B/Sentinel-2/MSI/MSI_L1B_GR/2025/07/24/S2A_OPER_MSI_L1B_GR_2APS_20250724T145646_S20250724T112807_D06_N05.11.tar"
   ]
  },
  {
   "cell_type": "code",
   "execution_count": null,
   "id": "2",
   "metadata": {},
   "outputs": [],
   "source": [
    "!mv  S2A_OPER_MSI_L1B_GR_2APS_20250724T145646_S20250724T112807_D06_N05.11 S2A_OPER_MSI_L1B_GR_2APS_20250724T145646_S20250724T112807_D06_N05.11.SAFE"
   ]
  },
  {
   "cell_type": "code",
   "execution_count": null,
   "id": "3",
   "metadata": {},
   "outputs": [],
   "source": [
    "import os\n",
    "\n",
    "from eopf.store.convert import convert\n",
    "\n",
    "current_dir = os.getcwd()\n",
    "safe_filename = \"./Sentinel-2/MSI/MSI_L1B_GR/2025/07/24/S2A_OPER_MSI_L1B_GR_2APS_20250724T011624_S20250724T000002_D01_N05.11.tar\"\n",
    "# safe_filename='./Sentinel-2/MSI/MSI_L1B_GR/2025/07/24/S2A_OPER_MSI_L1B_GR_2APS_20250724T145646_S20250724T112807_D06_N05.11.SAFE'\n",
    "safe_filename = (\n",
    "    \"S2A_OPER_MSI_L1B_GR_2APS_20250724T145646_S20250724T112807_D06_N05.11.SAFE\"\n",
    ")\n",
    "zarr_filename = os.path.split(safe_filename)[1].replace(\".SAFE\", \".zarr\")\n",
    "zarr_path = os.path.join(current_dir, zarr_filename)\n",
    "print(zarr_path)\n",
    "# convert( safe_filename, zarr_path, mask_and_scale=True)\n",
    "# safe_filename = 'tar:///home/jovyan/grid4earth_S2L1B/Sentinel-2/MSI/MSI_L1B_GR/2025/07/24/S2A_OPER_MSI_L1B_GR_2APS_20250724T145646_S20250724T112811_D06_N05.11.tar!S2A_OPER_MSI_L1B_GR_2APS_20250724T145646_S20250724T112811_D06_N05.11.SAFE'\n",
    "\n",
    "print(safe_filename)\n",
    "convert(\n",
    "    safe_filename,\n",
    "    zarr_path,\n",
    "    mask_and_scale=True,\n",
    "    source_store_kwargs={\n",
    "        \"product_level\": \"L1B\",\n",
    "    },\n",
    ")"
   ]
  },
  {
   "cell_type": "code",
   "execution_count": null,
   "id": "4",
   "metadata": {},
   "outputs": [],
   "source": []
  }
 ],
 "metadata": {
  "language_info": {
   "codemirror_mode": {
    "name": "ipython",
    "version": 3
   },
   "file_extension": ".py",
   "mimetype": "text/x-python",
   "name": "python",
   "nbconvert_exporter": "python",
   "pygments_lexer": "ipython3"
  }
 },
 "nbformat": 4,
 "nbformat_minor": 5
}
